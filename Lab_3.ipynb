{
 "cells": [
  {
   "cell_type": "code",
   "execution_count": 2,
   "metadata": {},
   "outputs": [
    {
     "ename": "ModuleNotFoundError",
     "evalue": "No module named 'pandas'",
     "output_type": "error",
     "traceback": [
      "\u001b[1;31m---------------------------------------------------------------------------\u001b[0m",
      "\u001b[1;31mModuleNotFoundError\u001b[0m                       Traceback (most recent call last)",
      "Cell \u001b[1;32mIn[2], line 3\u001b[0m\n\u001b[0;32m      1\u001b[0m \u001b[38;5;28;01mimport\u001b[39;00m \u001b[38;5;21;01mos\u001b[39;00m\n\u001b[0;32m      2\u001b[0m \u001b[38;5;28;01mimport\u001b[39;00m \u001b[38;5;21;01mtime\u001b[39;00m\n\u001b[1;32m----> 3\u001b[0m \u001b[38;5;28;01mimport\u001b[39;00m \u001b[38;5;21;01mpandas\u001b[39;00m \u001b[38;5;28;01mas\u001b[39;00m \u001b[38;5;21;01mpd\u001b[39;00m\n\u001b[0;32m      4\u001b[0m \u001b[38;5;28;01mimport\u001b[39;00m \u001b[38;5;21;01mhashlib\u001b[39;00m\n\u001b[0;32m      5\u001b[0m \u001b[38;5;28;01mimport\u001b[39;00m \u001b[38;5;21;01mmagic\u001b[39;00m\n",
      "\u001b[1;31mModuleNotFoundError\u001b[0m: No module named 'pandas'"
     ]
    }
   ],
   "source": [
    "import os\n",
    "import time\n",
    "import pandas as pd\n",
    "import hashlib\n",
    "import magic\n",
    "import mimetypes\n",
    "import re\n",
    "import datetime\n",
    "        \n",
    "\n",
    "def file2hash(filename, hash_function):\n",
    "    with open(filename, 'rb', buffering=0) as f:\n",
    "        return hash_function(f.read()).hexdigest()\n",
    "\n",
    "\n",
    "# specify the directory path where the files are located\n",
    "dir_path = 'E:'\n",
    "\n",
    "# create an empty list to store the file names\n",
    "file_names = []\n",
    "extensions = []\n",
    "md5s = []\n",
    "sha1s = []\n",
    "sha256s = []\n",
    "magic_numbers = []\n",
    "magic_object = magic.Magic(mime=True)\n",
    "usb_devices = []\n",
    "creation_times = []\n",
    "modification_times = []\n",
    "access_times = []\n",
    "\n",
    "with open(\"C:\\\\Users\\\\Iva\\\\Desktop\\\\Racunarstvo_120\\\\4.godina\\\\2.semestar\\\\Racunalna_forenzika\\\\labs\\\\setupapi.dev2.log\", \"r\") as log_file:\n",
    "     # Store information about each USB device in a dictionary\n",
    "     for line in log_file:\n",
    "     # Find all USB device installation events and extract information about each device\n",
    "        match = re.match(r'^>>>  \\[Device Install.*#(Disk&Ven_[A-Za-z0-9]+)&(Prod_([\\w\\s\\S]+?))&(Rev_([\\w\\s\\S]+?))#([\\w\\s\\S]+?)#.*\\]', line)\n",
    "        #event_time =\n",
    "        if(not match):\n",
    "            continue\n",
    "        device_vendor_id = match.group(1)\n",
    "        device_product_id = match.group(2)\n",
    "        device_instance_id = match.group(4)\n",
    "        serial_number = match.group(6)\n",
    "        event_time = next(log_file).split(\"start\")[1].split(\"\\n\")[0]\n",
    "        usb_devices.append({\"device_vendor_id\" : device_vendor_id, \"device_product_id\" : device_product_id, \"device_instance_id\" : device_instance_id, \"serial_number\" : serial_number, \"event_time\" : event_time})\n",
    "# iterate through all files in the directory\n",
    "for file in os.listdir(dir_path):\n",
    "    # check if the file is a regular file (i.e., not a directory)\n",
    "    path = os.path.join(dir_path, file)\n",
    "    if os.path.isfile(os.path.join(dir_path, file)):\n",
    "        # if so, add the file name to the list\n",
    "        file_names.append(os.path.splitext(file)[0])\n",
    "        extensions.append(os.path.splitext(file)[1])\n",
    "        md5s.append(file2hash(path, hashlib.md5))\n",
    "        sha1s.append(file2hash(path, hashlib.sha1))\n",
    "        sha256s.append(file2hash(path, hashlib.sha256))\n",
    "        magic_number = magic_object.from_file(path)\n",
    "        magic_numbers.append(magic_number)\n",
    "        extension = os.path.splitext(file)[1]\n",
    "        creation_times = time.ctime(os.path.getctime(os.path.join(dir_path, file)))\n",
    "        modification_times = time.ctime(os.path.getmtime(os.path.join(dir_path, file)))\n",
    "        access_times = time.ctime(os.path.getatime(os.path.join(dir_path, file)))\n",
    "# create a Pandas dataframe with the file names\n",
    "dfusb = pd.DataFrame({'file_name' : file_names, 'extension' : extensions, 'md5' : md5s, 'sha1' : sha1s, 'sha256' : sha256s, 'magic_number' : magic_numbers, 'creation_time' : creation_times, 'modification_time' : modification_times, 'access_time' : access_times})\n",
    "df = pd.DataFrame(usb_devices)\n",
    "display(dfusb)\n",
    "display(df)"
   ]
  },
  {
   "cell_type": "markdown",
   "metadata": {},
   "source": [
    "JetFlash je odgovor."
   ]
  }
 ],
 "metadata": {
  "kernelspec": {
   "display_name": "labs",
   "language": "python",
   "name": "labs"
  },
  "language_info": {
   "codemirror_mode": {
    "name": "ipython",
    "version": 3
   },
   "file_extension": ".py",
   "mimetype": "text/x-python",
   "name": "python",
   "nbconvert_exporter": "python",
   "pygments_lexer": "ipython3",
   "version": "3.12.0"
  }
 },
 "nbformat": 4,
 "nbformat_minor": 2
}
